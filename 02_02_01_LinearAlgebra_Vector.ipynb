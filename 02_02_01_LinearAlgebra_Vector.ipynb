{
  "nbformat": 4,
  "nbformat_minor": 0,
  "metadata": {
    "colab": {
      "provenance": []
    },
    "kernelspec": {
      "name": "python3",
      "display_name": "Python 3"
    },
    "language_info": {
      "name": "python"
    }
  },
  "cells": [
    {
      "cell_type": "markdown",
      "source": [
        "1.   長度(magnitude): Euclidean distance(歐幾里得距離)  \n",
        "  $\\begin{Vmatrix}\\overrightarrow{v}\\end{Vmatrix}=\\sqrt{v_1^2+v_2^2}$  \n",
        "  可以使用np.linalg.norm()計算向量長度\n",
        "  "
      ],
      "metadata": {
        "id": "8PILO9o0kr5l"
      }
    },
    {
      "cell_type": "code",
      "execution_count": 1,
      "metadata": {
        "colab": {
          "base_uri": "https://localhost:8080/"
        },
        "id": "uNYjzKPbkY7X",
        "outputId": "75194716-89ed-4d8d-f29e-d652c8786556"
      },
      "outputs": [
        {
          "output_type": "stream",
          "name": "stdout",
          "text": [
            "計算方式1:6.4031242374328485\n",
            "計算方式2:6.4031242374328485\n"
          ]
        }
      ],
      "source": [
        "import numpy as np\n",
        "# vector(向量)\n",
        "v = np.array([4, 5])\n",
        "\n",
        "# 向量長度\n",
        "magnitude1 = (v[0]**2 + v[1]**2)**(1/2)\n",
        "\n",
        "# 使用np.linalg.norm()計算長度\n",
        "magnitude2 = np.linalg.norm(v)\n",
        "\n",
        "print(f\"計算方式1:{magnitude1}\")\n",
        "print(f\"計算方式2:{magnitude2}\")"
      ]
    },
    {
      "cell_type": "markdown",
      "source": [
        "2.   方向(direction): $tan^-1()$計算\n",
        "\n"
      ],
      "metadata": {
        "id": "OArrdGcNrpmT"
      }
    },
    {
      "cell_type": "code",
      "source": [
        "import math\n",
        "import numpy as np\n",
        "# vector(向量)\n",
        "v = np.array([1, 2])\n",
        "\n",
        "vTan = v[1]/v[0]\n",
        "print(\"tan(θ)=1/2\")\n",
        "\n",
        "theta = math.atan(vTan)\n",
        "print(\"徑度(radian) = \", round(theta, 4))\n",
        "print(\"角度(degree) = \", round(theta*180/math.pi, 2))\n",
        "\n",
        "# 使用math.degrees() 轉換角度\n",
        "print(\"角度(degree) = \", round(math.degrees(theta), 2))\n"
      ],
      "metadata": {
        "colab": {
          "base_uri": "https://localhost:8080/"
        },
        "id": "PQ4PvXaJslQs",
        "outputId": "325060ea-fe16-4da2-83ec-d8ef3ea77a8f"
      },
      "execution_count": 2,
      "outputs": [
        {
          "output_type": "stream",
          "name": "stdout",
          "text": [
            "tan(θ)=1/2\n",
            "徑度(radian) =  1.1071\n",
            "角度(degree) =  63.43\n",
            "角度(degree) =  63.43\n"
          ]
        }
      ]
    },
    {
      "cell_type": "markdown",
      "source": [
        "3.   向量四則運算規則  \n",
        "  \n",
        "\n",
        "*   +-×÷ 一個常數: 常數直接對每個元素做加減乘除。\n",
        "*   +-×÷ 一個向量: 相同位置做加減乘除(**兩個向量元素數量必須相同**)。\n",
        "\n",
        "\n",
        "\n",
        "\n",
        "\n",
        "\n"
      ],
      "metadata": {
        "id": "4ElNGqVdz4mV"
      }
    },
    {
      "cell_type": "markdown",
      "source": [
        "\n",
        "\n",
        "4.   向量加減法: +-一個常數，長度、方向均改變。\n",
        "\n"
      ],
      "metadata": {
        "id": "K6IkMoHg0upV"
      }
    },
    {
      "cell_type": "code",
      "source": [
        "# import package\n",
        "import numpy as np\n",
        "import matplotlib.pyplot as plt\n",
        "\n",
        "# vector ± 2\n",
        "v = np.array([2,1])\n",
        "v1 = np.array([2,1])+2\n",
        "v2 = np.array([2,1])-2\n",
        "\n",
        "# origin vector\n",
        "origin = [0], [0]\n",
        "\n",
        "# 畫有箭頭的線 \n",
        "plt.quiver(*origin, *v1, scale=10, color='r')\n",
        "plt.quiver(*origin, *v, scale=10, color='b')\n",
        "plt.quiver(*origin, *v2, scale=10, color='g')\n",
        "\n",
        "plt.annotate(\"original vector\", (0.025, 0.01), xycoords=\"data\", fontsize=16)\n",
        "\n",
        "# draw\n",
        "plt.axis(\"equal\")\n",
        "plt.grid()\n",
        "\n",
        "plt.xticks(np.arange(-0.05, 0.06, 0.01), labels=np.arange(-5,6,1))\n",
        "plt.yticks(np.arange(-3, 5, 1)/100, labels=np.arange(-3,5,1))\n",
        "plt.show()"
      ],
      "metadata": {
        "colab": {
          "base_uri": "https://localhost:8080/",
          "height": 431
        },
        "id": "2mp6mlZn1Dn8",
        "outputId": "22a36e02-6994-40ae-e7a5-59983d58cdfc"
      },
      "execution_count": 3,
      "outputs": [
        {
          "output_type": "display_data",
          "data": {
            "text/plain": [
              "<Figure size 640x480 with 1 Axes>"
            ],
            "image/png": "[encoded data removed]"
          },
          "metadata": {}
        }
      ]
    }
  ]
}