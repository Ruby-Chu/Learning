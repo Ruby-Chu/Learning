{
  "nbformat": 4,
  "nbformat_minor": 0,
  "metadata": {
    "colab": {
      "provenance": []
    },
    "kernelspec": {
      "name": "python3",
      "display_name": "Python 3"
    },
    "language_info": {
      "name": "python"
    }
  },
  "cells": [
    {
      "cell_type": "markdown",
      "source": [
        "1.   長度(magnitude): Euclidean distance(歐幾里得距離)  \n",
        "  $\\begin{Vmatrix}\\overrightarrow{v}\\end{Vmatrix}=\\sqrt{v_1^2+v_2^2}$  \n",
        "  可以使用np.linalg.norm()計算向量長度\n",
        "  "
      ],
      "metadata": {
        "id": "8PILO9o0kr5l"
      }
    },
    {
      "cell_type": "code",
      "execution_count": 1,
      "metadata": {
        "colab": {
          "base_uri": "https://localhost:8080/"
        },
        "id": "uNYjzKPbkY7X",
        "outputId": "ac127737-8bcd-4f33-d41e-fe6a2930e457"
      },
      "outputs": [
        {
          "output_type": "stream",
          "name": "stdout",
          "text": [
            "計算方式1:6.4031242374328485\n",
            "計算方式2:6.4031242374328485\n"
          ]
        }
      ],
      "source": [
        "import numpy as np\n",
        "# vector(向量)\n",
        "v = np.array([4, 5])\n",
        "\n",
        "# 向量長度\n",
        "magnitude1 = (v[0]**2 + v[1]**2)**(1/2)\n",
        "\n",
        "# 使用np.linalg.norm()計算長度\n",
        "magnitude2 = np.linalg.norm(v)\n",
        "\n",
        "print(f\"計算方式1:{magnitude1}\")\n",
        "print(f\"計算方式2:{magnitude2}\")"
      ]
    },
    {
      "cell_type": "markdown",
      "source": [
        "2.   方向(direction): $tan^{-1}()$計算\n",
        "\n"
      ],
      "metadata": {
        "id": "OArrdGcNrpmT"
      }
    },
    {
      "cell_type": "code",
      "source": [
        "import math\n",
        "import numpy as np\n",
        "# vector(向量)\n",
        "v = np.array([1, 2])\n",
        "\n",
        "vTan = v[1]/v[0]\n",
        "print(\"tan(θ)=1/2\")\n",
        "\n",
        "theta = math.atan(vTan)\n",
        "print(\"徑度(radian) = \", round(theta, 4))\n",
        "print(\"角度(degree) = \", round(theta*180/math.pi, 2))\n",
        "\n",
        "# 使用math.degrees() 轉換角度\n",
        "print(\"角度(degree) = \", round(math.degrees(theta), 2))\n"
      ],
      "metadata": {
        "colab": {
          "base_uri": "https://localhost:8080/"
        },
        "id": "PQ4PvXaJslQs",
        "outputId": "4754b98e-06d8-4714-abe4-3353ccf17eca"
      },
      "execution_count": 2,
      "outputs": [
        {
          "output_type": "stream",
          "name": "stdout",
          "text": [
            "tan(θ)=1/2\n",
            "徑度(radian) =  1.1071\n",
            "角度(degree) =  63.43\n",
            "角度(degree) =  63.43\n"
          ]
        }
      ]
    },
    {
      "cell_type": "markdown",
      "source": [
        "3.   向量四則運算規則  \n",
        "  \n",
        "\n",
        "*   +-×÷ 一個常數: 常數直接對每個元素做加減乘除。\n",
        "*   +-×÷ 一個向量: 相同位置做加減乘除(**兩個向量元素數量必須相同**)。\n",
        "\n",
        "\n",
        "\n",
        "\n",
        "\n",
        "\n"
      ],
      "metadata": {
        "id": "4ElNGqVdz4mV"
      }
    },
    {
      "cell_type": "markdown",
      "source": [
        "\n",
        "\n",
        "4.   向量加減法: +-一個常數，**長度、方向均改變**。\n",
        "\n"
      ],
      "metadata": {
        "id": "K6IkMoHg0upV"
      }
    },
    {
      "cell_type": "code",
      "source": [
        "# import package\n",
        "import numpy as np\n",
        "import matplotlib.pyplot as plt\n",
        "\n",
        "# vector ± 2\n",
        "v = np.array([2,1])\n",
        "v1 = np.array([2,1])+2\n",
        "v2 = np.array([2,1])-2\n",
        "\n",
        "# origin vector\n",
        "origin = [0], [0]\n",
        "\n",
        "# 畫有箭頭的線 \n",
        "plt.quiver(*origin, *v1, scale=10, color='r')\n",
        "plt.quiver(*origin, *v, scale=10, color='b')\n",
        "plt.quiver(*origin, *v2, scale=10, color='g')\n",
        "\n",
        "#plt.annotate(\"original vector\", (0.025, 0.01), xycoords=\"data\", color=\"b\", fontsize=16)\n",
        "plt.annotate(\"v1\", (v1[0]*0.01, v1[1]*0.01-0.005), xycoords=\"data\", color=\"r\", fontsize=16)\n",
        "plt.annotate(\"v\", (v[0]*0.01, v[1]*0.01-0.005), xycoords=\"data\", color=\"b\", fontsize=16)\n",
        "plt.annotate(\"v2\", (v2[0]*0.01, v2[1]*0.01-0.005), xycoords=\"data\", color=\"g\", fontsize=16)\n",
        "plt.annotate(\"original vector\", (0.001, -0.002), xycoords=\"data\", color=\"y\", fontsize=16)\n",
        "\n",
        "\n",
        "# draw\n",
        "plt.axis(\"equal\")\n",
        "plt.grid()\n",
        "\n",
        "plt.xticks(np.arange(-0.05, 0.06, 0.01), labels=np.arange(-5,6,1))\n",
        "plt.yticks(np.arange(-3, 5, 1)/100, labels=np.arange(-3,5,1))\n",
        "plt.show()"
      ],
      "metadata": {
        "colab": {
          "base_uri": "https://localhost:8080/",
          "height": 431
        },
        "id": "2mp6mlZn1Dn8",
        "outputId": "a864d75f-5681-4c61-a95b-2f529ba57def"
      },
      "execution_count": 3,
      "outputs": [
        {
          "output_type": "display_data",
          "data": {
            "text/plain": [
              "<Figure size 640x480 with 1 Axes>"
            ],
            "image/png": "[encoded data removed]"
          },
          "metadata": {}
        }
      ]
    },
    {
      "cell_type": "markdown",
      "source": [
        "\n",
        "\n",
        "5.   向量乘除法: 乘除一個常數，**長度、方向不改變**。"
      ],
      "metadata": {
        "id": "ko7BpmYb4kdt"
      }
    },
    {
      "cell_type": "code",
      "source": [
        "# import package\n",
        "import numpy as np\n",
        "import matplotlib.pyplot as plt\n",
        "\n",
        "# vector × 2 and vector ÷ 2\n",
        "v = np.array([2,1])\n",
        "v1 = np.array([2,1])*2\n",
        "v2 = np.array([2,1])/2\n",
        "\n",
        "# origin vector\n",
        "origin = [0], [0]\n",
        "\n",
        "# 畫有箭頭的線 \n",
        "plt.quiver(*origin, *v1, scale=10, color='r')\n",
        "plt.quiver(*origin, *v, scale=10, color='b')\n",
        "plt.quiver(*origin, *v2, scale=10, color='g')\n",
        "\n",
        "# plt.annotate(\"original vector\", (0.025, 0.008), xycoords=\"data\", color=\"b\", fontsize=16)\n",
        "plt.annotate(\"v1\", (v1[0]*0.01, v1[1]*0.01+0.005), xycoords=\"data\", color=\"r\", fontsize=16)\n",
        "plt.annotate(\"v\", (v[0]*0.01, v[1]*0.01+0.005), xycoords=\"data\", color=\"b\", fontsize=16)\n",
        "plt.annotate(\"v2\", (v2[0]*0.01, v2[1]*0.01+0.005), xycoords=\"data\", color=\"g\", fontsize=16)\n",
        "plt.annotate(\"original vector\", (0.001, -0.002), xycoords=\"data\", color=\"y\", fontsize=16)\n",
        "\n",
        "# draw\n",
        "plt.axis(\"equal\")\n",
        "plt.grid()\n",
        "\n",
        "plt.xticks(np.arange(-0.05, 0.06, 0.01), labels=np.arange(-5,6,1))\n",
        "plt.yticks(np.arange(-3, 5, 1)/100, labels=np.arange(-3,5,1))\n",
        "plt.show()"
      ],
      "metadata": {
        "colab": {
          "base_uri": "https://localhost:8080/",
          "height": 431
        },
        "id": "snCWXyLM4yWQ",
        "outputId": "1a3e7684-ba04-465b-f2af-5add5de4db03"
      },
      "execution_count": 4,
      "outputs": [
        {
          "output_type": "display_data",
          "data": {
            "text/plain": [
              "<Figure size 640x480 with 1 Axes>"
            ],
            "image/png": "[encoded data removed]"
          },
          "metadata": {}
        }
      ]
    },
    {
      "cell_type": "markdown",
      "source": [
        "\n",
        "\n",
        "6.   向量+-×÷ 一另一個向量: <font color='red'>每個元素對應的位置做運算</font>。\n",
        "\n"
      ],
      "metadata": {
        "id": "SyPqidxN_pCG"
      }
    },
    {
      "cell_type": "code",
      "source": [
        "# import package\n",
        "import numpy as np\n",
        "import matplotlib.pyplot as plt\n",
        "\n",
        "# vector\n",
        "v = np.array([0, 1])\n",
        "s = np.array([-2, 1])\n",
        "v2 = v + s # (0-2, 1+1)\n",
        "\n",
        "# origin vector\n",
        "origin = [0], [0]\n",
        "\n",
        "# 畫有箭頭的線 \n",
        "plt.quiver(*origin, *v, scale=10, color='r')\n",
        "plt.quiver(*origin, *s, scale=10, color='b')\n",
        "plt.quiver(*origin, *v2, scale=10, color='g')\n",
        "\n",
        "# plt.annotate(\"original vector\", (0.025, 0.008), xycoords=\"data\", color=\"b\", fontsize=16)\n",
        "plt.annotate(\"v\", (v[0]*0.01, v[1]*0.01+0.005), xycoords=\"data\", color=\"r\", fontsize=16)\n",
        "plt.annotate(\"s\", (s[0]*0.01, s[1]*0.01+0.005), xycoords=\"data\", color=\"b\", fontsize=16)\n",
        "plt.annotate(\"v2\", (v2[0]*0.01, v2[1]*0.01+0.005), xycoords=\"data\", color=\"g\", fontsize=16)\n",
        "plt.annotate(\"original vector\", (0.001, -0.002), xycoords=\"data\", color=\"y\", fontsize=16)\n",
        "\n",
        "# draw\n",
        "plt.axis(\"equal\")\n",
        "plt.grid()\n",
        "\n",
        "plt.xticks(np.arange(-0.05, 0.06, 0.01), labels=np.arange(-5,6,1))\n",
        "plt.yticks(np.arange(-3, 5, 1)/100, labels=np.arange(-3,5,1))\n",
        "plt.show()"
      ],
      "metadata": {
        "colab": {
          "base_uri": "https://localhost:8080/",
          "height": 431
        },
        "id": "zMV5f4CfADpP",
        "outputId": "de1aad8b-84f0-4499-b3fd-77c4d69ae061"
      },
      "execution_count": 5,
      "outputs": [
        {
          "output_type": "display_data",
          "data": {
            "text/plain": [
              "<Figure size 640x480 with 1 Axes>"
            ],
            "image/png": "[encoded data removed]"
          },
          "metadata": {}
        }
      ]
    },
    {
      "cell_type": "markdown",
      "source": [
        "\n",
        "\n",
        "7.   內積(Dot Product)  \n",
        "  $\\overrightarrow{v}\\cdot\\overrightarrow{s}=(v_1 \\cdot s_1)+(v_2 \\cdot s_2) +\\cdots + (v_n \\cdot s_n)$  \n",
        "  <font color='red'>**numpy**可用**@**來做為運算</font> \n",
        "\n",
        "\n"
      ],
      "metadata": {
        "id": "WtH6o7TcBUsv"
      }
    },
    {
      "cell_type": "code",
      "source": [
        "# import package\n",
        "import numpy as np\n",
        "\n",
        "# vector\n",
        "v = np.array([2, 1])\n",
        "s = np.array([-2, 3])\n",
        "\n",
        "# 內積(Dot Product)\n",
        "d = v@s # (2*-2)+(1*3)\n",
        "print(d)"
      ],
      "metadata": {
        "colab": {
          "base_uri": "https://localhost:8080/"
        },
        "id": "J-OJX4ltD6tN",
        "outputId": "369a8216-f377-4ad5-cd0d-f7f0020cb766"
      },
      "execution_count": 6,
      "outputs": [
        {
          "output_type": "stream",
          "name": "stdout",
          "text": [
            "-1\n"
          ]
        }
      ]
    },
    {
      "cell_type": "markdown",
      "source": [
        "\n",
        "\n",
        "8.   向量夾角  \n",
        "  $\\overrightarrow{v}\\cdot\\overrightarrow{s}=\\begin{Vmatrix}\\overrightarrow{v}\\end{Vmatrix}\\begin{Vmatrix}\\overrightarrow{s}\\end{Vmatrix}\\cos(\\theta)$  \n",
        "\n",
        "  移項:  \n",
        "\n",
        "  $\\cos(\\theta)=\\tfrac{\\overrightarrow{v}\\cdot\\overrightarrow{s}}{\\begin{Vmatrix}\\overrightarrow{v}\\end{Vmatrix}\\begin{Vmatrix}\\overrightarrow{s}\\end{Vmatrix}}$  \n",
        "  \n",
        "  再利用$\\cos^{-1}()$計算夾角$\\theta$\n",
        "\n"
      ],
      "metadata": {
        "id": "ZHDeaC4BExIE"
      }
    },
    {
      "cell_type": "code",
      "source": [
        "# import package\n",
        "import numpy as np\n",
        "import matplotlib.pyplot as plt\n",
        "\n",
        "# vector\n",
        "v = np.array([2, 1])\n",
        "s = np.array([-3, 2])\n",
        "\n",
        "# 計算長度(magnitude)\n",
        "vMag = np.linalg.norm(v)\n",
        "sMag = np.linalg.norm(s)\n",
        "\n",
        "# 計算cos(θ)\n",
        "cos = (v@s)/(vMag*sMag)\n",
        "\n",
        "# 計算θ\n",
        "theta = math.degrees(math.acos(cos))\n",
        "print(theta)\n"
      ],
      "metadata": {
        "colab": {
          "base_uri": "https://localhost:8080/"
        },
        "id": "Kg-menFnHR7V",
        "outputId": "d4e87748-a91b-4624-b17a-9726e95f8dd9"
      },
      "execution_count": 7,
      "outputs": [
        {
          "output_type": "stream",
          "name": "stdout",
          "text": [
            "119.74488129694222\n"
          ]
        }
      ]
    }
  ]
}